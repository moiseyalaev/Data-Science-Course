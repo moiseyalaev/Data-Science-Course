{
 "cells": [
  {
   "cell_type": "markdown",
   "metadata": {},
   "source": [
    "Include all imports"
   ]
  },
  {
   "cell_type": "code",
   "execution_count": 55,
   "metadata": {},
   "outputs": [],
   "source": [
    "import numpy as np\n",
    "import numpy.linalg as lin\n",
    "import pandas as pd\n",
    "import os"
   ]
  },
  {
   "cell_type": "markdown",
   "metadata": {},
   "source": [
    "Import all necessary matricies from csv files and convert them to np arrays "
   ]
  },
  {
   "cell_type": "code",
   "execution_count": 98,
   "metadata": {},
   "outputs": [
    {
     "name": "stdout",
     "output_type": "stream",
     "text": [
      "[[-1.31805775]\n",
      " [-0.18084474]\n",
      " [-0.20134004]\n",
      " [-0.53867162]]\n"
     ]
    }
   ],
   "source": [
    "A_df = pd.read_csv('A.csv',  header=None)\n",
    "A = A_df.to_numpy()\n",
    "#print(A)\n",
    "\n",
    "R1_df = pd.read_csv('R1.csv',  header=None)\n",
    "R1 = R1_df.to_numpy()\n",
    "#print(R1)\n",
    "\n",
    "b_df = pd.read_csv('b.csv',  header=None)\n",
    "b = b_df.to_numpy()\n",
    "#print(b)\n",
    "\n",
    "Q_df = pd.read_csv('Q.csv',  header=None)\n",
    "QT = Q_df.to_numpy().T\n",
    "#print(QT)\n",
    "\n",
    "b1 = np.dot(QT, b)[range(4)]\n",
    "print(b1)"
   ]
  },
  {
   "cell_type": "markdown",
   "metadata": {},
   "source": [
    "Perform the computation of R_1 * x = b to solve for x using the linalg.solve function in np.\n",
    "Also check results using lin.lstsq()"
   ]
  },
  {
   "cell_type": "code",
   "execution_count": 97,
   "metadata": {},
   "outputs": [
    {
     "name": "stdout",
     "output_type": "stream",
     "text": [
      "[[ 0.15411017]\n",
      " [ 1.23326873]\n",
      " [ 0.87632533]\n",
      " [-1.15248528]]\n",
      "(array([[ 0.15410623],\n",
      "       [ 1.2332279 ],\n",
      "       [ 0.87626071],\n",
      "       [-1.15228633]]), array([0.00859745]), 4, array([2.78207711, 0.83463247, 0.57975785, 0.30184012]))\n"
     ]
    }
   ],
   "source": [
    "x = lin.solve(R1,b1)\n",
    "x_1 = lin.lstsq(A, b, rcond=None)\n",
    "print(x)\n",
    "print(x_1)"
   ]
  },
  {
   "cell_type": "markdown",
   "metadata": {},
   "source": [
    "Note out final answer for matches our answer for x in part (a)"
   ]
  },
  {
   "cell_type": "markdown",
   "metadata": {},
   "source": [
    "Question: 12"
   ]
  },
  {
   "cell_type": "code",
   "execution_count": 54,
   "metadata": {},
   "outputs": [
    {
     "name": "stdout",
     "output_type": "stream",
     "text": [
      "[[1 0]\n",
      " [2 7]\n",
      " [3 5]]\n",
      "[[1 2 3]\n",
      " [0 7 5]]\n",
      "[[14 29]\n",
      " [29 74]]\n"
     ]
    }
   ],
   "source": [
    "A = np.array([[1, 0], [2,  7], [3, 5]])\n",
    "AT = A.T\n",
    "#print(A)\n",
    "#print(AT)\n",
    "ATA = np.dot(AT, A)\n",
    "print(ATA)"
   ]
  },
  {
   "cell_type": "code",
   "execution_count": 59,
   "metadata": {},
   "outputs": [
    {
     "name": "stdout",
     "output_type": "stream",
     "text": [
      "[[14 29]\n",
      " [29 74]]\n",
      "[ 2.27470791 85.72529209]\n",
      "[[-0.92708909 -0.37484105]\n",
      " [ 0.37484105 -0.92708909]]\n"
     ]
    }
   ],
   "source": [
    "# Find eigenvalues and eigenvectors of ATA\n",
    "print(ATA)\n",
    "lamdas, eigVectors = lin.eig(ATA)\n",
    "print(lamdas)\n",
    "print(eigVectors)"
   ]
  },
  {
   "cell_type": "code",
   "execution_count": 63,
   "metadata": {},
   "outputs": [
    {
     "name": "stdout",
     "output_type": "stream",
     "text": [
      "[[-0.04048486  0.61469355]\n",
      " [-0.78188419 -0.51034496]\n",
      " [-0.62210778  0.60141488]]\n",
      "[9.25879539 1.50821348]\n",
      "[[-0.37484105 -0.92708909]\n",
      " [ 0.92708909 -0.37484105]]\n"
     ]
    }
   ],
   "source": [
    "U, S, VT = lin.svd(A, full_matrices=False)\n",
    "print(U)\n",
    "print(S)\n",
    "print(VT)"
   ]
  },
  {
   "cell_type": "code",
   "execution_count": 83,
   "metadata": {},
   "outputs": [
    {
     "name": "stdout",
     "output_type": "stream",
     "text": [
      "[[0.3748]\n",
      " [0.9271]]\n",
      "[[0.04048041]\n",
      " [0.78188318]\n",
      " [0.62210006]]\n",
      "[[-0.9271]\n",
      " [ 0.3748]]\n",
      "[[-0.61470627]\n",
      " [ 0.51014454]\n",
      " [-0.60157804]]\n",
      "[array([[0.04048041],\n",
      "       [0.78188318],\n",
      "       [0.62210006]]), array([[-0.61470627],\n",
      "       [ 0.51014454],\n",
      "       [-0.60157804]])]\n"
     ]
    }
   ],
   "source": [
    "# Determine U: Av = (sigma)u\n",
    "#AV = -np.dot(A, VT.T)\n",
    "#print(AV)\n",
    "\n",
    "#Sigma = np.array([[9.2588, 0],\n",
    "#                 [0, 1.5082],\n",
    "\n",
    "v1 = np.array([[0.3748], [0.9271]])\n",
    "print(v1)\n",
    "u1 = np.dot(A, v1) / 9.2588\n",
    "print(u1)\n",
    "\n",
    "v2 = np.array([[-0.9271], [0.3748]])\n",
    "print(v2)\n",
    "u2 = np.dot(A, v2) / 1.5082\n",
    "print(u2)\n",
    "\n",
    "U = [u1, u2]\n",
    "print(U)\n"
   ]
  }
 ],
 "metadata": {
  "kernelspec": {
   "display_name": "Python 3",
   "language": "python",
   "name": "python3"
  },
  "language_info": {
   "codemirror_mode": {
    "name": "ipython",
    "version": 3
   },
   "file_extension": ".py",
   "mimetype": "text/x-python",
   "name": "python",
   "nbconvert_exporter": "python",
   "pygments_lexer": "ipython3",
   "version": "3.7.6"
  }
 },
 "nbformat": 4,
 "nbformat_minor": 4
}
