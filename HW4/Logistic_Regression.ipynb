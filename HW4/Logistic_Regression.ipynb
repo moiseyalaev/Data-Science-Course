{
 "cells": [
  {
   "cell_type": "markdown",
   "metadata": {},
   "source": [
    "# Logistic Regression\n",
    "This notebook implements a simple working example of logistic regression.\n"
   ]
  },
  {
   "cell_type": "code",
   "execution_count": 12,
   "metadata": {},
   "outputs": [],
   "source": [
    "import numpy as np\n",
    "import matplotlib.pyplot as plt"
   ]
  },
  {
   "cell_type": "code",
   "execution_count": 13,
   "metadata": {},
   "outputs": [],
   "source": [
    "# Define sigmoid function\n",
    "def sigma(z):\n",
    "    output = 1.0/(1.0+np.exp(-z))\n",
    "    return output"
   ]
  },
  {
   "cell_type": "code",
   "execution_count": 14,
   "metadata": {},
   "outputs": [
    {
     "data": {
      "image/png": "[encoded data removed]",
      "text/plain": [
       "<Figure size 432x288 with 1 Axes>"
      ]
     },
     "metadata": {
      "needs_background": "light"
     },
     "output_type": "display_data"
    }
   ],
   "source": [
    "# Lets generate a toy example\n",
    "mean_1 = [-2,-2]\n",
    "cov_1 = [[0.5,0],[0,0.5]]\n",
    "mean_2 = [2,2]\n",
    "cov_2 = [[1.5,0],[0,0.5]]\n",
    "\n",
    "# Generate the data using np.random library\n",
    "X_1 = np.random.multivariate_normal(mean_1,cov_1,100)\n",
    "X_2 = np.random.multivariate_normal(mean_2,cov_2,100)\n",
    "\n",
    "\n",
    "X = np.concatenate([X_1,X_2],axis = 0) # concatenate data into single matrix\n",
    "y = np.zeros([200,1])\n",
    "y[100:200] = 1\n",
    "N = 200 # number of data points\n",
    "\n",
    "# Plot the data using pyplot\n",
    "plt.plot(X_1[:,0],X_1[:,1],'r*')\n",
    "plt.plot(X_2[:,0],X_2[:,1],'b*')\n",
    "plt.title('Plotting the $(\\mathbf{x}^{(i)},y^{(i)})$ for a simple data set. We indicate value of $y^{(i)}$ by colour')\n",
    "plt.show()"
   ]
  },
  {
   "cell_type": "markdown",
   "metadata": {},
   "source": [
    "It will be convenient to introduce the notation:\n",
    "\\begin{align}\n",
    "h_{\\mathbf{\\theta},b}(\\mathbf{x}) := \\sigma(\\boldsymbol{\\theta}^{\\top}\\mathbf{x} + b)\n",
    "\\end{align}"
   ]
  },
  {
   "cell_type": "code",
   "execution_count": 15,
   "metadata": {},
   "outputs": [],
   "source": [
    "def h(theta,b,x):\n",
    "    return sigma(np.dot(theta,x) + b)"
   ]
  },
  {
   "cell_type": "code",
   "execution_count": 16,
   "metadata": {},
   "outputs": [],
   "source": [
    "def TrainingLogisticRegression(theta_0,b_0,X,y,alpha,K_max):\n",
    "    # Function for training logistic regression model\n",
    "    # Inputs:\n",
    "        # theta_0,b_0 : (random) initializations for parameters\n",
    "        # X,y : labeled training data\n",
    "        # alpha: step size/ learning rate\n",
    "        # K_max: max number of iterations.\n",
    "    theta = np.squeeze(theta_0)\n",
    "    b = b_0\n",
    "    N = X.shape[0]\n",
    "    d = X.shape[1]\n",
    "    loss_function_trajectory = np.zeros([K_max,1])\n",
    "    for k in range(K_max):\n",
    "        theta_grad = 0\n",
    "        b_grad = 0\n",
    "        loss_function_value = 0\n",
    "        for i in range(N):\n",
    "            theta_grad -= (y[i] - h(theta,b,X[i,:]))*X[i,:]\n",
    "            b_grad -= y[i] - h(theta,b,X[i,:])\n",
    "            loss_function_value += -y[i]*np.log(h(theta,b,X[i,:])) -(1-y[i])*np.log(1 - h(theta,b,X[i,:])) \n",
    "        theta -= alpha*theta_grad\n",
    "        b -= alpha*b_grad\n",
    "        loss_function_trajectory[k] = loss_function_value\n",
    "        if k% 50 == 0:\n",
    "            print(loss_function_value)\n",
    "    return theta,b,loss_function_trajectory"
   ]
  },
  {
   "cell_type": "code",
   "execution_count": 24,
   "metadata": {},
   "outputs": [
    {
     "name": "stdout",
     "output_type": "stream",
     "text": [
      "[13.09064382]\n",
      "[0.59046367]\n",
      "[0.35133256]\n",
      "[0.25748796]\n",
      "[0.20582303]\n",
      "[0.17264193]\n",
      "[0.14933556]\n",
      "[0.1319723]\n",
      "[0.11848468]\n",
      "[0.1076751]\n"
     ]
    }
   ],
   "source": [
    "## Testing this on our toy model\n",
    "\n",
    "# Splitting data into test and train\n",
    "All_indices = range(0,200)\n",
    "Train_indices = np.random.choice(All_indices,size=120,replace=False)\n",
    "Test_indices = np.setdiff1d(All_indices,Train_indices)\n",
    "\n",
    "X_train = X[Train_indices,:]\n",
    "y_train = y[Train_indices]\n",
    "\n",
    "X_test = X[Test_indices,:]\n",
    "y_test = y[Test_indices,:]\n",
    "\n",
    "# Initializing parameters\n",
    "theta_0 = np.random.randn(2,1)\n",
    "b_0 = np.random.randn(1)\n",
    "alpha = 0.01\n",
    "K_max = 500\n",
    "\n",
    "# training\n",
    "theta,b,loss_function_trajectory = TrainingLogisticRegression(theta_0,b_0,X_train,y_train,alpha,K_max)"
   ]
  },
  {
   "cell_type": "code",
   "execution_count": 25,
   "metadata": {},
   "outputs": [
    {
     "name": "stdout",
     "output_type": "stream",
     "text": [
      "[2.16144749 2.90685664]\n",
      "[0.5251538]\n"
     ]
    }
   ],
   "source": [
    "# Lets examine the parameters\n",
    "print(theta)\n",
    "print(b)"
   ]
  },
  {
   "cell_type": "code",
   "execution_count": 26,
   "metadata": {},
   "outputs": [],
   "source": [
    "def Classifier(theta,b,x):\n",
    "    probability = h(theta,b,x) # = sigmoid(theta^{T}x - b)\n",
    "    classification = np.round(probability) # if probability >= 0.5 then predict y = 1. if prob < 0.5 then predict y = 0\n",
    "    return probability,classification"
   ]
  },
  {
   "cell_type": "code",
   "execution_count": 27,
   "metadata": {},
   "outputs": [
    {
     "name": "stdout",
     "output_type": "stream",
     "text": [
      "Predicted Label is 0 while the true label is 0\n"
     ]
    }
   ],
   "source": [
    "i = 7\n",
    "probability, classification = Classifier(theta,b,X_test[i,:])\n",
    "#print(classification)\n",
    "#print(y[1])\n",
    "print('Predicted Label is ' + str(int(classification)) + ' while the true label is ' + str(int(y_test[i])))"
   ]
  },
  {
   "cell_type": "code",
   "execution_count": 28,
   "metadata": {},
   "outputs": [
    {
     "name": "stdout",
     "output_type": "stream",
     "text": [
      "Predicted Label is 0 while the true label is 0\n"
     ]
    }
   ],
   "source": [
    "i = 23\n",
    "score, classification = Classifier(theta,b,X_test[i,:])\n",
    "#print(classification)\n",
    "#print(y[1])\n",
    "print('Predicted Label is ' + str(int(classification)) + ' while the true label is ' + str(int(y_test[i])))"
   ]
  },
  {
   "cell_type": "code",
   "execution_count": 29,
   "metadata": {},
   "outputs": [
    {
     "name": "stdout",
     "output_type": "stream",
     "text": [
      "1.0\n"
     ]
    }
   ],
   "source": [
    "total = 0\n",
    "\n",
    "for i in range(0, 80):\n",
    "    probability, classification = Classifier(theta, b, X_test[i,:])\n",
    "    if classification == y_test[i]:\n",
    "        total += 1\n",
    "\n",
    "print(total / 80)"
   ]
  },
  {
   "cell_type": "markdown",
   "metadata": {},
   "source": [
    "## Classification Boundary\n",
    "- Observe that if $\\boldsymbol{\\theta}^{\\top}\\mathbf{x} + b = 0$ then $h_{\\boldsymbol{\\theta},b}(\\mathbf{x}) = \\sigma(\\boldsymbol{\\theta}^{\\top}\\mathbf{x} + b) = \\sigma(0) = \\frac{1}{2}$. \n",
    "- This is the boundary between the two classes\n",
    "\n",
    "\\begin{align}\n",
    "& \\theta_1x_1 + \\theta_2x_2 + b = 0 \\\\\n",
    "\\Rightarrow & \\theta_2x_2 = -\\theta_1x_1 - b \\\\\n",
    "\\Rightarrow & x_2 = \\frac{-\\theta_1}{\\theta_2}x_1 - \\frac{b}{\\theta_2}\n",
    "\\end{align}"
   ]
  },
  {
   "cell_type": "code",
   "execution_count": 23,
   "metadata": {},
   "outputs": [
    {
     "data": {
      "image/png": "[encoded data removed]",
      "text/plain": [
       "<Figure size 432x288 with 1 Axes>"
      ]
     },
     "metadata": {
      "needs_background": "light"
     },
     "output_type": "display_data"
    }
   ],
   "source": [
    "## Let's visualize the classification boundary\n",
    "x_vals = np.linspace(-4,4,5000)\n",
    "y_vals = -(theta[0]/theta[1])*x_vals - b/theta[0]\n",
    "plt.plot(x_vals,y_vals,'k')\n",
    "plt.plot(X_1[:,0],X_1[:,1],'r*')\n",
    "plt.plot(X_2[:,0],X_2[:,1],'b*')\n",
    "plt.title('Plotting our data set with the decision boundary.')\n",
    "plt.show()"
   ]
  },
  {
   "cell_type": "code",
   "execution_count": null,
   "metadata": {},
   "outputs": [],
   "source": []
  }
 ],
 "metadata": {
  "kernelspec": {
   "display_name": "Python 3",
   "language": "python",
   "name": "python3"
  },
  "language_info": {
   "codemirror_mode": {
    "name": "ipython",
    "version": 3
   },
   "file_extension": ".py",
   "mimetype": "text/x-python",
   "name": "python",
   "nbconvert_exporter": "python",
   "pygments_lexer": "ipython3",
   "version": "3.7.6"
  }
 },
 "nbformat": 4,
 "nbformat_minor": 4
}
