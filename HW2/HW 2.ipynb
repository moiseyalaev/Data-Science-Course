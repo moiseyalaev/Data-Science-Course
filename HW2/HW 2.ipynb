{
 "cells": [
  {
   "cell_type": "code",
   "execution_count": 57,
   "metadata": {},
   "outputs": [],
   "source": [
    "import numpy as np\n",
    "import numpy.linalg as lin\n",
    "import scipy\n",
    "from sklearn.decomposition import NMF"
   ]
  },
  {
   "cell_type": "markdown",
   "metadata": {},
   "source": [
    "### Algorithms for NMF\n",
    " - Suppose we know $W$. Then finding $H$ becomes (non-negative) matrix least squares:\n",
    " \n",
    " $ H = \\text{argmin}_{V\\in\\mathbb{R}^{r\\times n}_{+}}\\|A - WV\\|^{2}_{F}$\n",
    " \n",
    " - What if we knew $H$? Then finding $W$ is also (non-negative) matrix least squares:\n",
    " \n",
    " $W = \\text{argmin}_{U\\in\\mathbb{R}^{d\\times r}_{+}}\\|A - UH\\|^{2}_{F}$ \n",
    " \n",
    " - **Idea:** If we have approximations $W_{k},H_{k}$:\n",
    "     + Use $W_{k}$ to find new approx. of $H$:\n",
    "         $ H_{k+1} = \\text{argmin}_{V\\in\\mathbb{R}^{r\\times n}_{+}}\\|A - W_{k}V\\|^{2}_{F} = \\text{argmin}_{\\mathbf{v}_{i} \\geq 0 \\ \\text{ for } j=1,\\ldots n} \\sum_{j=1}^{n}\\|\\mathbf{a}_{j} - W_{k}\\mathbf{v}_j\\|_{2}^{2}$\n",
    "     + Note that $V = \\left[\\begin{matrix} \\mathbf{v}_1 & \\ldots & \\mathbf{v}_{r} \\end{matrix}\\right]$\n",
    "     + $\\mathbf{v}_{i} = \\text{nnls}(W_{k},\\mathbf{a}_i)$ for $i=1,\\ldots, n$\n",
    "     + $\\|A - W_{k}V\\|^{2}_{F} = \\sum_{i=1}^{n}\\sum_{j=1}^{d}\\left(A_{ij} - \\left(W_{k}V\\right)_{ij}\\right)^{2}$\n",
    "     + Can do some rewriting: $A_{ij} = \\mathbf{a}_{i,j}$\n",
    "     + Then, use $H_{k+1}$ to find a new approx. of $W$:\n",
    "         $ W_{k+1} = \\text{argmin}_{U\\in\\mathbb{R}^{d\\times r}_{+}}\\|A - UH_{k+1}\\|^{2}_{F}$\n",
    "     + Extra steps: Know that $\\|A - UH_{k+1}\\|^{2}_{F} = \\|\\left(A - UH_{k+1}\\right)^{\\top}\\|^{2}_{F} = \\|A^{\\top} - H_{k+1}^{\\top}U^{\\top}\\|^{2}_{F}$\n",
    "     + $\\mathbf{u}_i = \\text{nnls}(H_{k+1}^{\\top},\\mathbf{r}_i)$ where $\\mathbf{r}_i$ is the $i$-th row of $A$\n",
    "     + Repeat.\n",
    "     \n",
    "     $A\\in R^{n\\times d}$  you want $W \\in R^{n\\times r}$ and $H \\in R^{r \\times d}$ with r $\\leq$ min{n,d}. If r is large you can find a good solution in terms of error (i.e. $||A−WH||_{F}$ will be small) but it may lack interpretability."
   ]
  },
  {
   "cell_type": "code",
   "execution_count": 104,
   "metadata": {},
   "outputs": [
    {
     "name": "stdout",
     "output_type": "stream",
     "text": [
      "[[0.23766663 0.38717405 1.06504525 0.49392641]\n",
      " [0.34512935 0.60294615 1.05604023 0.51189323]\n",
      " [0.30186981 0.5550608  0.58998738 0.30804221]\n",
      " [0.28326086 0.47285479 1.13192647 0.53114686]]\n"
     ]
    }
   ],
   "source": [
    "# Question 1 need to make nonnegative\n",
    "# X is dim(4,4) => n = 4, d = 4 \n",
    "A = np.array([[0.238, 0.387, 1.065, 0.494],\n",
    "             [0.345, 0.603, 1.056, 0.512],\n",
    "             [0.302, 0.555, 0.59, 0.308],\n",
    "             [0.283, 0.473, 1.132, 0.531]])\n",
    "\n",
    "def my_NMF(A):\n",
    "    # Initalize random W\n",
    "    W = np.random.rand(4, 2) # n = 4, r = 2\n",
    "    #H = np.random.rand(2, 4) # r = 2, d = 4\n",
    "    \n",
    "    # I got rid of this part below because i was getting errors with trying to \n",
    "    # make the function terminate based on the error of W-W_prev || H-H_prev\n",
    "    # inital error:\n",
    "    # W_error = 1 \n",
    "    # H_error = 1\n",
    "    \n",
    "    # set tolerance of W and H:\n",
    "    # tol = 10**-4 \n",
    "    # W_error <= tol and H_error <= tol\n",
    "    \n",
    "    i = 0\n",
    "    \n",
    "    while(i < 20):\n",
    "        H = lin.lstsq(W, A, rcond=None)[0] # fix W and get argmin H of ||A-WH||\n",
    "        W = lin.lstsq(H.T, A.T, rcond=None)[0].T # repeat but fix H to get W \n",
    "        i += 1\n",
    "        \n",
    "    return W, H\n",
    "\n",
    "W,H = my_NMF(A)\n",
    "print(np.dot(W,H))"
   ]
  },
  {
   "cell_type": "code",
   "execution_count": 101,
   "metadata": {},
   "outputs": [
    {
     "name": "stdout",
     "output_type": "stream",
     "text": [
      "[[[[[[ -2   0]\n",
      "     [  0   2]]\n",
      "\n",
      "    [[  2   0]\n",
      "     [  0  -2]]]\n",
      "\n",
      "\n",
      "   [[[  3   0]\n",
      "     [  0  -3]]\n",
      "\n",
      "    [[ -3   0]\n",
      "     [  0   3]]]]\n",
      "\n",
      "\n",
      "\n",
      "  [[[[ -8   0]\n",
      "     [  0   8]]\n",
      "\n",
      "    [[  8   0]\n",
      "     [  0  -8]]]\n",
      "\n",
      "\n",
      "   [[[ 12   0]\n",
      "     [  0 -12]]\n",
      "\n",
      "    [[-12   0]\n",
      "     [  0  12]]]]]\n",
      "\n",
      "\n",
      "\n",
      "\n",
      " [[[[[ -4   0]\n",
      "     [  0   4]]\n",
      "\n",
      "    [[  4   0]\n",
      "     [  0  -4]]]\n",
      "\n",
      "\n",
      "   [[[  6   0]\n",
      "     [  0  -6]]\n",
      "\n",
      "    [[ -6   0]\n",
      "     [  0   6]]]]\n",
      "\n",
      "\n",
      "\n",
      "  [[[[-10   0]\n",
      "     [  0  10]]\n",
      "\n",
      "    [[ 10   0]\n",
      "     [  0 -10]]]\n",
      "\n",
      "\n",
      "   [[[ 15   0]\n",
      "     [  0 -15]]\n",
      "\n",
      "    [[-15   0]\n",
      "     [  0  15]]]]]]\n"
     ]
    }
   ],
   "source": [
    "X = np.array([[1, 4],[2, 5]])\n",
    "Y = np.array([[-2, 2],[3, -3]])\n",
    "Z = np.array([[1, 0],[0, -1]])\n",
    "\n",
    "XY = np.multiply.outer(X, Y)\n",
    "XYZ = np.multiply.outer(XY, Z)\n",
    "\n",
    "print(XYZ)"
   ]
  },
  {
   "cell_type": "code",
   "execution_count": 111,
   "metadata": {},
   "outputs": [
    {
     "name": "stdout",
     "output_type": "stream",
     "text": [
      "[-0.82 -1.33 -3.63 -1.62 -2.95] [0.95 0.53 1.79 0.95 2.28]\n",
      "-2.07 1.3\n"
     ]
    }
   ],
   "source": [
    "X = [-0.82, -1.33, -3.63, -1.62, -2.95, 0.95, 0.53, 1.79, 0.95, 2.28]\n",
    "mu = 2.37\n",
    "Y = []\n",
    "\n",
    "for x in X:\n",
    "    Y.append(lin.norm(x-mu))\n",
    "    \n",
    "#print(Y)\n",
    "\n",
    "x1, x2 = np.array_split(X,2)\n",
    "print(x1, x2)\n",
    "print(np.mean(x1), np.mean(x2))"
   ]
  }
 ],
 "metadata": {
  "kernelspec": {
   "display_name": "Python 3",
   "language": "python",
   "name": "python3"
  },
  "language_info": {
   "codemirror_mode": {
    "name": "ipython",
    "version": 3
   },
   "file_extension": ".py",
   "mimetype": "text/x-python",
   "name": "python",
   "nbconvert_exporter": "python",
   "pygments_lexer": "ipython3",
   "version": "3.7.6"
  }
 },
 "nbformat": 4,
 "nbformat_minor": 4
}
